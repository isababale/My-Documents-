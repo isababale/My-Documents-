{
  "cells": [
    {
      "cell_type": "markdown",
      "metadata": {
        "id": "view-in-github",
        "colab_type": "text"
      },
      "source": [
        "<a href=\"https://colab.research.google.com/github/isababale/My-Documents-/blob/main/CNN_CIFAR_PART_2.ipynb\" target=\"_parent\"><img src=\"https://colab.research.google.com/assets/colab-badge.svg\" alt=\"Open In Colab\"/></a>"
      ]
    },
    {
      "cell_type": "code",
      "execution_count": 1,
      "metadata": {
        "id": "M7nWrm9ViBsS"
      },
      "outputs": [],
      "source": [
        "import torch\n",
        "import torchvision\n",
        "import numpy as np\n",
        "import matplotlib.pyplot as plt\n",
        "import torch.nn as nn"
      ]
    },
    {
      "cell_type": "code",
      "execution_count": 2,
      "metadata": {
        "id": "b1mntOywihui"
      },
      "outputs": [],
      "source": [
        "trainset= torchvision.datasets.CIFAR10(root='/content/drive/MyDrive/cifar10',download=False,train=True,\n",
        "                                    transform=torchvision.transforms.ToTensor())\n",
        "testset= torchvision.datasets.CIFAR10(root='/content/drive/MyDrive/cifar10',train=False,download=False,\n",
        "                                       transform=torchvision.transforms.ToTensor())"
      ]
    },
    {
      "cell_type": "code",
      "execution_count": 3,
      "metadata": {
        "colab": {
          "base_uri": "https://localhost:8080/"
        },
        "id": "sBVzIf20kw5j",
        "outputId": "688b3171-d438-4cea-8ad4-4a1a26253161"
      },
      "outputs": [
        {
          "output_type": "execute_result",
          "data": {
            "text/plain": [
              "(50000, 32, 32, 3)"
            ]
          },
          "metadata": {},
          "execution_count": 3
        }
      ],
      "source": [
        "trainset.data.shape"
      ]
    },
    {
      "cell_type": "code",
      "execution_count": 4,
      "metadata": {
        "id": "e8agRZGHm5uq"
      },
      "outputs": [],
      "source": [
        "# class labels\n",
        "classes = ('airplane', 'car', 'bird', 'cat',\n",
        "           'deer', 'dog', 'frog', 'horse', 'ship', 'truck')"
      ]
    },
    {
      "cell_type": "code",
      "execution_count": null,
      "metadata": {
        "colab": {
          "base_uri": "https://localhost:8080/"
        },
        "id": "b3_smWATnpMH",
        "outputId": "2e51639d-aa9a-4aa1-a9f6-60625d234cc8"
      },
      "outputs": [
        {
          "name": "stdout",
          "output_type": "stream",
          "text": [
            "truck\n"
          ]
        }
      ],
      "source": [
        "image,label=trainset[2]\n",
        "label_name=trainset.classes[label]\n",
        "print(label_name)"
      ]
    },
    {
      "cell_type": "code",
      "execution_count": null,
      "metadata": {
        "colab": {
          "base_uri": "https://localhost:8080/",
          "height": 221
        },
        "id": "ox7nmbyqoYP9",
        "outputId": "95960d62-06e1-415c-e487-00748d5c8ca1"
      },
      "outputs": [
        {
          "data": {
            "text/html": [
              "<div style=\"max-width:800px; border: 1px solid var(--colab-border-color);\"><style>\n",
              "      pre.function-repr-contents {\n",
              "        overflow-x: auto;\n",
              "        padding: 8px 12px;\n",
              "        max-height: 500px;\n",
              "      }\n",
              "\n",
              "      pre.function-repr-contents.function-repr-contents-collapsed {\n",
              "        cursor: pointer;\n",
              "        max-height: 100px;\n",
              "      }\n",
              "    </style>\n",
              "    <pre style=\"white-space: initial; background:\n",
              "         var(--colab-secondary-surface-color); padding: 8px 12px;\n",
              "         border-bottom: 1px solid var(--colab-border-color);\"><b>torchvision.datasets.cifar.CIFAR10</b><br/>def __init__(root: Union[str, Path], train: bool=True, transform: Optional[Callable]=None, target_transform: Optional[Callable]=None, download: bool=False) -&gt; None</pre><pre class=\"function-repr-contents function-repr-contents-collapsed\" style=\"\"><a class=\"filepath\" style=\"display:none\" href=\"#\">/usr/local/lib/python3.11/dist-packages/torchvision/datasets/cifar.py</a>`CIFAR10 &lt;https://www.cs.toronto.edu/~kriz/cifar.html&gt;`_ Dataset.\n",
              "\n",
              "Args:\n",
              "    root (str or ``pathlib.Path``): Root directory of dataset where directory\n",
              "        ``cifar-10-batches-py`` exists or will be saved to if download is set to True.\n",
              "    train (bool, optional): If True, creates dataset from training set, otherwise\n",
              "        creates from test set.\n",
              "    transform (callable, optional): A function/transform that takes in a PIL image\n",
              "        and returns a transformed version. E.g, ``transforms.RandomCrop``\n",
              "    target_transform (callable, optional): A function/transform that takes in the\n",
              "        target and transforms it.\n",
              "    download (bool, optional): If true, downloads the dataset from the internet and\n",
              "        puts it in root directory. If dataset is already downloaded, it is not\n",
              "        downloaded again.</pre>\n",
              "      <script>\n",
              "      if (google.colab.kernel.accessAllowed && google.colab.files && google.colab.files.view) {\n",
              "        for (const element of document.querySelectorAll('.filepath')) {\n",
              "          element.style.display = 'block'\n",
              "          element.onclick = (event) => {\n",
              "            event.preventDefault();\n",
              "            event.stopPropagation();\n",
              "            google.colab.files.view(element.textContent, 13);\n",
              "          };\n",
              "        }\n",
              "      }\n",
              "      for (const element of document.querySelectorAll('.function-repr-contents')) {\n",
              "        element.onclick = (event) => {\n",
              "          event.preventDefault();\n",
              "          event.stopPropagation();\n",
              "          element.classList.toggle('function-repr-contents-collapsed');\n",
              "        };\n",
              "      }\n",
              "      </script>\n",
              "      </div>"
            ],
            "text/plain": [
              "torchvision.datasets.cifar.CIFAR10"
            ]
          },
          "execution_count": 6,
          "metadata": {},
          "output_type": "execute_result"
        }
      ],
      "source": [
        "type(trainset)"
      ]
    },
    {
      "cell_type": "code",
      "execution_count": null,
      "metadata": {
        "id": "gSoyhhe5pyz0"
      },
      "outputs": [],
      "source": [
        "trainloader=torch.utils.data.DataLoader(trainset)"
      ]
    },
    {
      "cell_type": "code",
      "execution_count": null,
      "metadata": {
        "colab": {
          "base_uri": "https://localhost:8080/",
          "height": 121
        },
        "id": "viMKliMAp6oP",
        "outputId": "ccf74937-0920-42d0-825d-fb9294b248e9"
      },
      "outputs": [
        {
          "data": {
            "text/html": [
              "<div style=\"max-width:800px; border: 1px solid var(--colab-border-color);\"><style>\n",
              "      pre.function-repr-contents {\n",
              "        overflow-x: auto;\n",
              "        padding: 8px 12px;\n",
              "        max-height: 500px;\n",
              "      }\n",
              "\n",
              "      pre.function-repr-contents.function-repr-contents-collapsed {\n",
              "        cursor: pointer;\n",
              "        max-height: 100px;\n",
              "      }\n",
              "    </style>\n",
              "    <pre style=\"white-space: initial; background:\n",
              "         var(--colab-secondary-surface-color); padding: 8px 12px;\n",
              "         border-bottom: 1px solid var(--colab-border-color);\"><b>torch.utils.data.dataloader._SingleProcessDataLoaderIter</b><br/>def __init__(loader)</pre><pre class=\"function-repr-contents function-repr-contents-collapsed\" style=\"\"><a class=\"filepath\" style=\"display:none\" href=\"#\">/usr/local/lib/python3.11/dist-packages/torch/utils/data/dataloader.py</a>&lt;no docstring&gt;</pre>\n",
              "      <script>\n",
              "      if (google.colab.kernel.accessAllowed && google.colab.files && google.colab.files.view) {\n",
              "        for (const element of document.querySelectorAll('.filepath')) {\n",
              "          element.style.display = 'block'\n",
              "          element.onclick = (event) => {\n",
              "            event.preventDefault();\n",
              "            event.stopPropagation();\n",
              "            google.colab.files.view(element.textContent, 740);\n",
              "          };\n",
              "        }\n",
              "      }\n",
              "      for (const element of document.querySelectorAll('.function-repr-contents')) {\n",
              "        element.onclick = (event) => {\n",
              "          event.preventDefault();\n",
              "          event.stopPropagation();\n",
              "          element.classList.toggle('function-repr-contents-collapsed');\n",
              "        };\n",
              "      }\n",
              "      </script>\n",
              "      </div>"
            ],
            "text/plain": [
              "torch.utils.data.dataloader._SingleProcessDataLoaderIter"
            ]
          },
          "execution_count": 8,
          "metadata": {},
          "output_type": "execute_result"
        }
      ],
      "source": [
        "data_iter=iter(trainloader)\n",
        "type(data_iter)"
      ]
    },
    {
      "cell_type": "code",
      "execution_count": null,
      "metadata": {
        "colab": {
          "base_uri": "https://localhost:8080/"
        },
        "id": "mbvHvAWHqEFo",
        "outputId": "5b381ae4-845f-42a4-9739-67f205ffdc69"
      },
      "outputs": [
        {
          "name": "stdout",
          "output_type": "stream",
          "text": [
            "torch.Size([1, 3, 32, 32])\n"
          ]
        }
      ],
      "source": [
        "# access the data -- next method\n",
        "images,labels=next(data_iter)\n",
        "print(images.shape)"
      ]
    },
    {
      "cell_type": "code",
      "execution_count": null,
      "metadata": {
        "colab": {
          "base_uri": "https://localhost:8080/"
        },
        "id": "UBirVpsYpx5O",
        "outputId": "93214990-24d5-4e78-92b5-7287f0e10e66"
      },
      "outputs": [
        {
          "name": "stdout",
          "output_type": "stream",
          "text": [
            "6\n"
          ]
        }
      ],
      "source": [
        "print(labels.item())"
      ]
    },
    {
      "cell_type": "code",
      "execution_count": null,
      "metadata": {
        "colab": {
          "base_uri": "https://localhost:8080/",
          "height": 106
        },
        "id": "IVk8SWdTrxOA",
        "outputId": "abd8bafb-492b-41c9-b987-80a686bf4ac1"
      },
      "outputs": [
        {
          "ename": "SyntaxError",
          "evalue": "invalid syntax (<ipython-input-11-d6502e734088>, line 1)",
          "output_type": "error",
          "traceback": [
            "\u001b[0;36m  File \u001b[0;32m\"<ipython-input-11-d6502e734088>\"\u001b[0;36m, line \u001b[0;32m1\u001b[0m\n\u001b[0;31m    1-batch size\u001b[0m\n\u001b[0m            ^\u001b[0m\n\u001b[0;31mSyntaxError\u001b[0m\u001b[0;31m:\u001b[0m invalid syntax\n"
          ]
        }
      ],
      "source": [
        "1-batch size\n",
        "3- channels in input\n",
        "32,32- shape of individual image"
      ]
    },
    {
      "cell_type": "code",
      "execution_count": null,
      "metadata": {
        "colab": {
          "base_uri": "https://localhost:8080/"
        },
        "id": "UpEfTYECo6Ln",
        "outputId": "9ef7b66d-1017-46eb-e6a9-8774d10f60ea"
      },
      "outputs": [
        {
          "name": "stdout",
          "output_type": "stream",
          "text": [
            "torch.Size([4, 3, 32, 32])\n"
          ]
        }
      ],
      "source": [
        "# loading the dataset --> using the DataLoader class(torch.utils.data.DataLoader)\n",
        "trainloader=torch.utils.data.DataLoader(trainset,batch_size=4,shuffle=True)\n",
        "data_iter=iter(trainloader)\n",
        "images,labels=next(data_iter)\n",
        "print(images.shape)"
      ]
    },
    {
      "cell_type": "code",
      "execution_count": null,
      "metadata": {
        "id": "TdgmLAqQrmCf"
      },
      "outputs": [],
      "source": [
        "4 -batch size (no of images loaded)\n",
        "3- channels in input\n",
        "32,32- shape of individual image"
      ]
    },
    {
      "cell_type": "code",
      "execution_count": null,
      "metadata": {
        "id": "MPbJU1yDsCXV"
      },
      "outputs": [],
      "source": [
        "labels"
      ]
    },
    {
      "cell_type": "markdown",
      "metadata": {
        "id": "LKad9LWAsRNN"
      },
      "source": [
        "## **Visualize the data**"
      ]
    },
    {
      "cell_type": "code",
      "execution_count": null,
      "metadata": {
        "colab": {
          "base_uri": "https://localhost:8080/"
        },
        "id": "Z2GpwISjsZZN",
        "outputId": "a509dc6b-eacc-4d6b-8666-0f097a6fb70d"
      },
      "outputs": [
        {
          "data": {
            "text/plain": [
              "torch.Size([3, 32, 32])"
            ]
          },
          "execution_count": 13,
          "metadata": {},
          "output_type": "execute_result"
        }
      ],
      "source": [
        "image_data=images[1]\n",
        "image_data.shape"
      ]
    },
    {
      "cell_type": "code",
      "execution_count": null,
      "metadata": {
        "colab": {
          "base_uri": "https://localhost:8080/"
        },
        "id": "PIkAhffFsjkp",
        "outputId": "c0ab200a-ad54-4b75-ccd6-041192e9a092"
      },
      "outputs": [
        {
          "data": {
            "text/plain": [
              "(3, 32, 32)"
            ]
          },
          "execution_count": 14,
          "metadata": {},
          "output_type": "execute_result"
        }
      ],
      "source": [
        "# convert image to numpy\n",
        "np_image=image_data.numpy()\n",
        "np_image.shape"
      ]
    },
    {
      "cell_type": "code",
      "execution_count": null,
      "metadata": {
        "colab": {
          "base_uri": "https://localhost:8080/"
        },
        "id": "u6HkD4DMs6C5",
        "outputId": "47e7ed9e-48d9-457c-b3b3-1985a6b7745b"
      },
      "outputs": [
        {
          "data": {
            "text/plain": [
              "(32, 32, 3)"
            ]
          },
          "execution_count": 15,
          "metadata": {},
          "output_type": "execute_result"
        }
      ],
      "source": [
        "#transpose\n",
        "np_image=np.transpose(np_image,(1,2,0))\n",
        "np_image.shape"
      ]
    },
    {
      "cell_type": "code",
      "execution_count": null,
      "metadata": {
        "colab": {
          "base_uri": "https://localhost:8080/",
          "height": 217
        },
        "id": "FqMMc9YatfJL",
        "outputId": "ad24ea31-69a5-4d58-9b73-adcb589dff42"
      },
      "outputs": [
        {
          "data": {
            "image/png": "[encoded data removed]",
            "text/plain": [
              "<Figure size 200x200 with 1 Axes>"
            ]
          },
          "metadata": {},
          "output_type": "display_data"
        }
      ],
      "source": [
        "#plotting the image\n",
        "plt.figure(figsize=(2,2))\n",
        "plt.imshow(np_image)\n",
        "plt.show()"
      ]
    },
    {
      "cell_type": "code",
      "execution_count": null,
      "metadata": {
        "colab": {
          "base_uri": "https://localhost:8080/"
        },
        "id": "8mXP3DXHuESO",
        "outputId": "e92f9617-0246-4adb-ae91-f8384c2119da"
      },
      "outputs": [
        {
          "name": "stdout",
          "output_type": "stream",
          "text": [
            "car\n"
          ]
        }
      ],
      "source": [
        "print(classes[labels[1].item()])"
      ]
    },
    {
      "cell_type": "code",
      "execution_count": null,
      "metadata": {
        "id": "oeie9mkmu2ON"
      },
      "outputs": [],
      "source": [
        "def image_show(image_data):\n",
        "  np_image=image_data.numpy()\n",
        "  np_image=np.transpose(np_image,(1,2,0))\n",
        "  plt.figure(figsize=(2,2))\n",
        "  plt.imshow(np_image)\n",
        "  plt.show()"
      ]
    },
    {
      "cell_type": "code",
      "execution_count": null,
      "metadata": {
        "colab": {
          "base_uri": "https://localhost:8080/",
          "height": 217
        },
        "id": "O7a_SatMvwkj",
        "outputId": "165a7028-708f-4b1f-dc55-a0add1775f5f"
      },
      "outputs": [
        {
          "data": {
            "image/png": "[encoded data removed]",
            "text/plain": [
              "<Figure size 200x200 with 1 Axes>"
            ]
          },
          "metadata": {},
          "output_type": "display_data"
        }
      ],
      "source": [
        "image_show(images[2])"
      ]
    },
    {
      "cell_type": "code",
      "execution_count": null,
      "metadata": {
        "colab": {
          "base_uri": "https://localhost:8080/",
          "height": 35
        },
        "id": "rKLQomHHwznn",
        "outputId": "2d6574e4-e7c1-4176-c563-6afa89f09966"
      },
      "outputs": [
        {
          "data": {
            "application/vnd.google.colaboratory.intrinsic+json": {
              "type": "string"
            },
            "text/plain": [
              "'dog'"
            ]
          },
          "execution_count": 20,
          "metadata": {},
          "output_type": "execute_result"
        }
      ],
      "source": [
        "classes[labels[2].item()]"
      ]
    },
    {
      "cell_type": "markdown",
      "metadata": {
        "id": "v6TWOMCwxCnD"
      },
      "source": [
        "# **First Convolution Layer**"
      ]
    },
    {
      "cell_type": "code",
      "execution_count": null,
      "metadata": {
        "id": "cx_qhB1TxKTe"
      },
      "outputs": [],
      "source": [
        "class FirstCNN(nn.Module):\n",
        "  def __init__(self):\n",
        "    super().__init__()\n",
        "    self.conv1=nn.Conv2d(3,10,3)\n",
        "    self.relu=nn.ReLU() #(no. of input channels, number of output channel,kernel size )\n",
        "\n",
        "    # kernel 3 --> (3,3)\n",
        "\n",
        "  def forward(self,x):\n",
        "    y=self.conv1(x)\n",
        "    y=self.relu(y)\n",
        "    return y"
      ]
    },
    {
      "cell_type": "code",
      "execution_count": null,
      "metadata": {
        "id": "nr7oYGmUFQ6K"
      },
      "outputs": [],
      "source": [
        "cnn=FirstCNN()"
      ]
    },
    {
      "cell_type": "code",
      "execution_count": null,
      "metadata": {
        "id": "wqo-NochFV_2"
      },
      "outputs": [],
      "source": [
        "out=cnn(images)"
      ]
    },
    {
      "cell_type": "code",
      "execution_count": null,
      "metadata": {
        "colab": {
          "base_uri": "https://localhost:8080/"
        },
        "id": "8zgMfZOlF9pC",
        "outputId": "852f36a8-e9e1-4f1b-b5ef-b321cf27d4d2"
      },
      "outputs": [
        {
          "data": {
            "text/plain": [
              "torch.Size([4, 10, 30, 30])"
            ]
          },
          "execution_count": 24,
          "metadata": {},
          "output_type": "execute_result"
        }
      ],
      "source": [
        "out.shape"
      ]
    },
    {
      "cell_type": "code",
      "execution_count": null,
      "metadata": {
        "id": "wwIJDNjcGF81"
      },
      "outputs": [],
      "source": [
        "4: number of images (batch size)\n",
        "10: channels of output\n",
        "(30,30) : size of image\n",
        "defaut\n",
        "padding=(0,0),stride=(1,1)"
      ]
    },
    {
      "cell_type": "code",
      "execution_count": null,
      "metadata": {
        "colab": {
          "base_uri": "https://localhost:8080/"
        },
        "id": "nid63PbmGZcM",
        "outputId": "c216e54c-2327-488b-d734-9e355c6ee061"
      },
      "outputs": [
        {
          "data": {
            "text/plain": [
              "torch.Size([30, 30])"
            ]
          },
          "execution_count": 31,
          "metadata": {},
          "output_type": "execute_result"
        }
      ],
      "source": [
        "sample=out[0,5,:,:]\n",
        "sample.shape"
      ]
    },
    {
      "cell_type": "code",
      "execution_count": null,
      "metadata": {
        "colab": {
          "base_uri": "https://localhost:8080/",
          "height": 217
        },
        "id": "phegFWXrHMO3",
        "outputId": "ae84ba84-015e-4e5d-9b3b-5dd40163f8a3"
      },
      "outputs": [
        {
          "data": {
            "image/png": "[encoded data removed]",
            "text/plain": [
              "<Figure size 200x200 with 1 Axes>"
            ]
          },
          "metadata": {},
          "output_type": "display_data"
        }
      ],
      "source": [
        "plt.figure(figsize=(2,2))\n",
        "plt.imshow(sample.detach().numpy())\n",
        "plt.show()"
      ]
    },
    {
      "cell_type": "code",
      "execution_count": null,
      "metadata": {
        "colab": {
          "base_uri": "https://localhost:8080/",
          "height": 217
        },
        "id": "mZ90xIyLHsiU",
        "outputId": "06506d18-f681-4d67-fc48-873a25ed0a03"
      },
      "outputs": [
        {
          "data": {
            "image/png": "[encoded data removed]",
            "text/plain": [
              "<Figure size 200x200 with 1 Axes>"
            ]
          },
          "metadata": {},
          "output_type": "display_data"
        }
      ],
      "source": [
        "# 2nd filter\n",
        "sample=out[0,6,:,:]\n",
        "plt.figure(figsize=(2,2))\n",
        "plt.imshow(sample.detach().numpy())\n",
        "plt.show()"
      ]
    },
    {
      "cell_type": "code",
      "execution_count": null,
      "metadata": {
        "colab": {
          "base_uri": "https://localhost:8080/",
          "height": 217
        },
        "id": "1AsM5mT9IYt4",
        "outputId": "31695292-efa5-406e-8c26-9a985107c09b"
      },
      "outputs": [
        {
          "data": {
            "image/png": "[encoded data removed]",
            "text/plain": [
              "<Figure size 200x200 with 1 Axes>"
            ]
          },
          "metadata": {},
          "output_type": "display_data"
        }
      ],
      "source": [
        "# 2nd image first filter\n",
        "sample=out[2,5,:,:]\n",
        "plt.figure(figsize=(2,2))\n",
        "plt.imshow(sample.detach().numpy())\n",
        "plt.show()"
      ]
    },
    {
      "cell_type": "code",
      "execution_count": null,
      "metadata": {
        "colab": {
          "base_uri": "https://localhost:8080/",
          "height": 35
        },
        "id": "ZZdzo3M4IglG",
        "outputId": "ce32648f-af5b-4f9b-854c-300463567fb4"
      },
      "outputs": [
        {
          "data": {
            "application/vnd.google.colaboratory.intrinsic+json": {
              "type": "string"
            },
            "text/plain": [
              "'dog'"
            ]
          },
          "execution_count": 37,
          "metadata": {},
          "output_type": "execute_result"
        }
      ],
      "source": [
        "classes[labels[2]]"
      ]
    },
    {
      "cell_type": "code",
      "execution_count": null,
      "metadata": {
        "id": "S-T20ybLKKyp"
      },
      "outputs": [],
      "source": [
        "# padding and stride\n",
        "# by default: padding=(0,0) and stride=(1,1)\n",
        "class FirstCNN(nn.Module):\n",
        "  def __init__(self):\n",
        "    super().__init__()\n",
        "    self.conv1=nn.Conv2d(3,10,3,padding=(1,1))\n",
        "\n",
        "  def forward(self,x):\n",
        "    y=self.conv1(x)\n",
        "    return y"
      ]
    },
    {
      "cell_type": "code",
      "execution_count": null,
      "metadata": {
        "id": "UcjOBeIMLUTV"
      },
      "outputs": [],
      "source": [
        "cnn=FirstCNN()"
      ]
    },
    {
      "cell_type": "code",
      "execution_count": null,
      "metadata": {
        "id": "_YDQuLzcLXQ2"
      },
      "outputs": [],
      "source": [
        "out=cnn(images)"
      ]
    },
    {
      "cell_type": "code",
      "execution_count": null,
      "metadata": {
        "colab": {
          "base_uri": "https://localhost:8080/"
        },
        "id": "VBxhQN8BLmeC",
        "outputId": "91ed9e7e-ccc3-495f-f998-93520d9d9bd7"
      },
      "outputs": [
        {
          "data": {
            "text/plain": [
              "torch.Size([4, 10, 32, 32])"
            ]
          },
          "execution_count": 45,
          "metadata": {},
          "output_type": "execute_result"
        }
      ],
      "source": [
        "out.shape"
      ]
    },
    {
      "cell_type": "code",
      "execution_count": null,
      "metadata": {
        "id": "cF1AO3gSMt2e"
      },
      "outputs": [],
      "source": [
        "# stride=1\n",
        "class FirstCNN(nn.Module):\n",
        "  def __init__(self):\n",
        "    super().__init__()\n",
        "    self.conv1=nn.Conv2d(3,10,3,padding=(1,1),stride=(1,1))\n",
        "\n",
        "  def forward(self,x):\n",
        "    y=self.conv1(x)\n",
        "    return y"
      ]
    },
    {
      "cell_type": "code",
      "execution_count": null,
      "metadata": {
        "id": "AvxtKr6xNgvI"
      },
      "outputs": [],
      "source": [
        "cnn=FirstCNN()"
      ]
    },
    {
      "cell_type": "code",
      "execution_count": null,
      "metadata": {
        "id": "YWS5a0UaNlxk"
      },
      "outputs": [],
      "source": [
        "out=cnn(images)"
      ]
    },
    {
      "cell_type": "code",
      "execution_count": null,
      "metadata": {
        "colab": {
          "base_uri": "https://localhost:8080/"
        },
        "id": "WNvrUeM_NpNX",
        "outputId": "12a4fcb3-9b6f-41f8-b956-9819f490531d"
      },
      "outputs": [
        {
          "data": {
            "text/plain": [
              "torch.Size([4, 10, 32, 32])"
            ]
          },
          "execution_count": 49,
          "metadata": {},
          "output_type": "execute_result"
        }
      ],
      "source": [
        "out.shape"
      ]
    },
    {
      "cell_type": "code",
      "execution_count": null,
      "metadata": {
        "colab": {
          "base_uri": "https://localhost:8080/"
        },
        "id": "wDQA30IbOMud",
        "outputId": "8b9a0a42-c099-4e52-e7eb-3837edf48bc8"
      },
      "outputs": [
        {
          "data": {
            "text/plain": [
              "torch.Size([4, 10, 16, 16])"
            ]
          },
          "execution_count": 50,
          "metadata": {},
          "output_type": "execute_result"
        }
      ],
      "source": [
        "# stride=2\n",
        "class FirstCNN(nn.Module):\n",
        "  def __init__(self):\n",
        "    super().__init__()\n",
        "    self.conv1=nn.Conv2d(3,10,3,padding=(1,1),stride=(2,2))\n",
        "\n",
        "  def forward(self,x):\n",
        "    y=self.conv1(x)\n",
        "    return y\n",
        "\n",
        "cnn=FirstCNN()\n",
        "out=cnn(images)\n",
        "out.shape"
      ]
    },
    {
      "cell_type": "code",
      "execution_count": null,
      "metadata": {
        "colab": {
          "base_uri": "https://localhost:8080/"
        },
        "id": "3rbgPkGhPZes",
        "outputId": "6ba92635-c52b-4a20-c365-b1fc5f90e1ee"
      },
      "outputs": [
        {
          "data": {
            "text/plain": [
              "torch.Size([4, 10, 15, 15])"
            ]
          },
          "execution_count": 51,
          "metadata": {},
          "output_type": "execute_result"
        }
      ],
      "source": [
        "# stride =2 without padding\n",
        "\n",
        "class FirstCNN(nn.Module):\n",
        "  def __init__(self):\n",
        "    super().__init__()\n",
        "    self.conv1=nn.Conv2d(3,10,3,stride=(2,2))\n",
        "\n",
        "  def forward(self,x):\n",
        "    y=self.conv1(x)\n",
        "    return y\n",
        "\n",
        "cnn=FirstCNN()\n",
        "out=cnn(images)\n",
        "out.shape"
      ]
    },
    {
      "cell_type": "markdown",
      "metadata": {
        "id": "TyK8-hQyF4LH"
      },
      "source": [
        "# **Deep Convolution Network**"
      ]
    },
    {
      "cell_type": "code",
      "execution_count": null,
      "metadata": {
        "id": "amK4JC6OF-0M"
      },
      "outputs": [],
      "source": [
        "class DeepCNN(nn.Module):\n",
        "  def __init__(self):\n",
        "    super().__init__()\n",
        "    self.model=nn.Sequential(nn.Conv2d(3,10,3),\n",
        "                             nn.Conv2d(10,5,3))\n",
        "\n",
        "  def forward(self,x):\n",
        "      y=self.model(x)\n",
        "      return y"
      ]
    },
    {
      "cell_type": "markdown",
      "metadata": {
        "id": "r8oWIa-2HW4a"
      },
      "source": [
        "**Intuition of Convolution**\n",
        "Input=4,3,32,32\n",
        "1st convolution layer --kernel=3,3 & output channels=10\n",
        "default padding =0, stride=1\n",
        "**output as a result of ist convolution**: 4,10,30,30"
      ]
    },
    {
      "cell_type": "markdown",
      "metadata": {
        "id": "KiZBZNJpITJ3"
      },
      "source": [
        "**Intuition of Convolution:**\n",
        "Input=4,3,32,32\n",
        "2st convolution layer --kernel=3,3 & output channels=10\n",
        "default padding =0, stride=1\n",
        "**output as a result of 2st convolution**: 4,5,28,28"
      ]
    },
    {
      "cell_type": "code",
      "execution_count": null,
      "metadata": {
        "colab": {
          "base_uri": "https://localhost:8080/"
        },
        "id": "rntwtix6IiiC",
        "outputId": "8dea0cb5-a113-4e94-f8fa-d3bc957aceb5"
      },
      "outputs": [
        {
          "data": {
            "text/plain": [
              "torch.Size([4, 5, 28, 28])"
            ]
          },
          "execution_count": 53,
          "metadata": {},
          "output_type": "execute_result"
        }
      ],
      "source": [
        "deep=DeepCNN()\n",
        "out=deep(images)\n",
        "out.shape"
      ]
    },
    {
      "cell_type": "code",
      "execution_count": null,
      "metadata": {
        "colab": {
          "base_uri": "https://localhost:8080/",
          "height": 217
        },
        "id": "YakcbA_VJeCk",
        "outputId": "24cf418d-ed12-4d2d-8047-747391aae9c6"
      },
      "outputs": [
        {
          "data": {
            "image/png": "[encoded data removed]",
            "text/plain": [
              "<Figure size 200x200 with 1 Axes>"
            ]
          },
          "metadata": {},
          "output_type": "display_data"
        }
      ],
      "source": [
        "sample=out[1,4,:,:]\n",
        "plt.figure(figsize=(2,2))\n",
        "plt.imshow(sample.detach().numpy())\n",
        "plt.show()"
      ]
    },
    {
      "cell_type": "code",
      "execution_count": null,
      "metadata": {
        "colab": {
          "base_uri": "https://localhost:8080/",
          "height": 35
        },
        "id": "zghAWk3oJxAI",
        "outputId": "05f7ea2d-8980-4b78-b60d-958926fc1013"
      },
      "outputs": [
        {
          "data": {
            "application/vnd.google.colaboratory.intrinsic+json": {
              "type": "string"
            },
            "text/plain": [
              "'car'"
            ]
          },
          "execution_count": 55,
          "metadata": {},
          "output_type": "execute_result"
        }
      ],
      "source": [
        "classes[labels[1]]"
      ]
    },
    {
      "cell_type": "markdown",
      "metadata": {
        "id": "y21WTg5gKYS2"
      },
      "source": [
        "# **mean pool or average pool**"
      ]
    },
    {
      "cell_type": "code",
      "execution_count": null,
      "metadata": {
        "colab": {
          "base_uri": "https://localhost:8080/"
        },
        "id": "bGrU5a9FKk_u",
        "outputId": "d7ee1667-c33e-4138-8258-2ca71065392b"
      },
      "outputs": [
        {
          "data": {
            "text/plain": [
              "torch.Size([4, 5, 14, 14])"
            ]
          },
          "execution_count": 56,
          "metadata": {},
          "output_type": "execute_result"
        }
      ],
      "source": [
        "class avg_pool(nn.Module):\n",
        "  def __init__(self):\n",
        "    super().__init__()\n",
        "    self.model=nn.Sequential(nn.Conv2d(3,10,3),\n",
        "                             nn.Conv2d(10,5,3),\n",
        "                             nn.AvgPool2d(2,stride=2))\n",
        "  def forward(self,x):\n",
        "      y=self.model(x)\n",
        "      return y\n",
        "\n",
        "avg=avg_pool()\n",
        "out=avg(images)\n",
        "out.shape"
      ]
    },
    {
      "cell_type": "code",
      "execution_count": null,
      "metadata": {
        "colab": {
          "base_uri": "https://localhost:8080/",
          "height": 214
        },
        "id": "H5HLemmZLxb8",
        "outputId": "7761940b-8dbf-4bf4-abf9-bf6047858a79"
      },
      "outputs": [
        {
          "data": {
            "image/png": "[encoded data removed]",
            "text/plain": [
              "<Figure size 200x200 with 1 Axes>"
            ]
          },
          "metadata": {},
          "output_type": "display_data"
        }
      ],
      "source": [
        "sample=out[1,3,:,:]\n",
        "plt.figure(figsize=(2,2))\n",
        "plt.imshow(sample.detach().numpy())\n",
        "plt.show()"
      ]
    },
    {
      "cell_type": "code",
      "execution_count": null,
      "metadata": {
        "colab": {
          "base_uri": "https://localhost:8080/",
          "height": 35
        },
        "id": "71mwQBhSMmaT",
        "outputId": "fac3a39e-8010-449d-b61d-9218961f028f"
      },
      "outputs": [
        {
          "data": {
            "application/vnd.google.colaboratory.intrinsic+json": {
              "type": "string"
            },
            "text/plain": [
              "'car'"
            ]
          },
          "execution_count": 58,
          "metadata": {},
          "output_type": "execute_result"
        }
      ],
      "source": [
        "classes[labels[1]]"
      ]
    },
    {
      "cell_type": "code",
      "execution_count": null,
      "metadata": {
        "colab": {
          "base_uri": "https://localhost:8080/"
        },
        "id": "ZS41JKIdNWTA",
        "outputId": "653f841c-c201-44ad-f6ee-6255c351944b"
      },
      "outputs": [
        {
          "data": {
            "text/plain": [
              "torch.Size([4, 5, 14, 14])"
            ]
          },
          "execution_count": 59,
          "metadata": {},
          "output_type": "execute_result"
        }
      ],
      "source": [
        "# max pool\n",
        "class max_pool(nn.Module):\n",
        "  def __init__(self):\n",
        "    super().__init__()\n",
        "    self.model=nn.Sequential(nn.Conv2d(3,10,3),\n",
        "                             nn.Conv2d(10,5,3),\n",
        "                             nn.MaxPool2d(2,stride=2))\n",
        "\n",
        "  def forward(self,x):\n",
        "    y=self.model(x)\n",
        "    return y\n",
        "\n",
        "max_p=max_pool()\n",
        "out=max_p(images)\n",
        "out.shape"
      ]
    },
    {
      "cell_type": "code",
      "execution_count": null,
      "metadata": {
        "colab": {
          "base_uri": "https://localhost:8080/",
          "height": 214
        },
        "id": "fzirdqphOQMY",
        "outputId": "ffba6eef-1493-4d33-d9c6-a68c67ad0c18"
      },
      "outputs": [
        {
          "data": {
            "image/png": "[encoded data removed]",
            "text/plain": [
              "<Figure size 200x200 with 1 Axes>"
            ]
          },
          "metadata": {},
          "output_type": "display_data"
        }
      ],
      "source": [
        "sample=out[1,3,:,:]\n",
        "plt.figure(figsize=(2,2))\n",
        "plt.imshow(sample.detach().numpy())\n",
        "plt.show()"
      ]
    },
    {
      "cell_type": "code",
      "execution_count": null,
      "metadata": {
        "colab": {
          "base_uri": "https://localhost:8080/",
          "height": 35
        },
        "id": "boZqK8glOg6S",
        "outputId": "ab3fa70e-33af-4825-9425-ec53b8ad6246"
      },
      "outputs": [
        {
          "data": {
            "application/vnd.google.colaboratory.intrinsic+json": {
              "type": "string"
            },
            "text/plain": [
              "'car'"
            ]
          },
          "execution_count": 63,
          "metadata": {},
          "output_type": "execute_result"
        }
      ],
      "source": [
        "classes[labels[1]]"
      ]
    },
    {
      "cell_type": "markdown",
      "metadata": {
        "id": "_CHJpcVQPHTf"
      },
      "source": [
        "# **LeNet**"
      ]
    },
    {
      "cell_type": "code",
      "execution_count": null,
      "metadata": {
        "id": "6rcE3_hWPQQD"
      },
      "outputs": [],
      "source": [
        "\"\"\"\n",
        "CNN layers:\n",
        "input=(4,3,32,32)--> batch size =4\n",
        "\n",
        "in General,\n",
        "input=(N,3,32,32)--> batch size =N\n",
        "\n",
        "1st convolution:\n",
        "(N,3,32,32) --> (N,6,28,28)   #output channels = 6, kernel = 5, stride = 1\n",
        "Avg Pool:\n",
        "(N,6,28,28) --> (N,6,14,14)  # Kernel = 2, stride = 2\n",
        "2nd Convolution:\n",
        "(N,6,14,14) --> (N,16,10,10) # kernel = 5\n",
        "Avg Pool:\n",
        "(N,16,10,10) --> (N,16,5,5) # Stride = 2, kernel = 2\n",
        "\n",
        "\"\"\""
      ]
    },
    {
      "cell_type": "code",
      "execution_count": null,
      "metadata": {
        "id": "dci-36_4QVgD"
      },
      "outputs": [],
      "source": [
        "\"\"\"\n",
        "Dense Layers:\n",
        "output from CNN Layers --> (N,16,5,5)\n",
        "Result of flattening --> (N,16*5*5) = (N,400) # N refers to number of images loaded in a batch\n",
        "Dense Layer 1: 120 Neurons\n",
        "Dense Layer 2: 84 Neurons\n",
        "Dense Layer 3: 10 Neurons\n",
        "\"\"\""
      ]
    },
    {
      "cell_type": "code",
      "execution_count": null,
      "metadata": {
        "colab": {
          "base_uri": "https://localhost:8080/"
        },
        "id": "ELGrfo-TRLgT",
        "outputId": "0cbcd143-f005-48d9-e83f-4f58d230f97d"
      },
      "outputs": [
        {
          "data": {
            "text/plain": [
              "torch.Size([25000])"
            ]
          },
          "execution_count": 64,
          "metadata": {},
          "output_type": "execute_result"
        }
      ],
      "source": [
        "# understanding torch.flatten\n",
        "x=torch.randn(500,5,10)\n",
        "x=torch.flatten(x)\n",
        "x.shape"
      ]
    },
    {
      "cell_type": "code",
      "execution_count": null,
      "metadata": {
        "colab": {
          "base_uri": "https://localhost:8080/"
        },
        "id": "wNVHn9nWTOT5",
        "outputId": "5cfcd75f-2e4d-499a-da17-013c8da9bea4"
      },
      "outputs": [
        {
          "data": {
            "text/plain": [
              "torch.Size([500, 50])"
            ]
          },
          "execution_count": 65,
          "metadata": {},
          "output_type": "execute_result"
        }
      ],
      "source": [
        "# specifying  dimension in torch.flatten\n",
        "x=torch.randn(500,5,10)\n",
        "x=torch.flatten(x,start_dim=1)\n",
        "x.shape"
      ]
    },
    {
      "cell_type": "code",
      "execution_count": 5,
      "metadata": {
        "id": "3ixye0fHTg2V"
      },
      "outputs": [],
      "source": [
        "class LeNet(nn.Module):\n",
        "  def __init__(self):\n",
        "    super().__init__()\n",
        "    self.conv_model=nn.Sequential(nn.Conv2d(3,6,5), # (N,3,32,32)-->(N,6,28,28)\n",
        "                                  nn.Tanh(),\n",
        "                                  nn.AvgPool2d(2,stride=2), #(N,6,28,28) -->(N,6,14,14)\n",
        "                                  nn.Conv2d(6,16,5), # (N,6,14,14) --> (N,16,10,10)\n",
        "                                  nn.Tanh(),\n",
        "                                  nn.AvgPool2d(2,stride=2)) #(N,16,10,10) --> (N,16,5,5)\n",
        "\n",
        "    self.dense_model=nn.Sequential(nn.Linear(400,120),\n",
        "                                   nn.Tanh(),\n",
        "                                   nn.Linear(120,84),\n",
        "                                   nn.Tanh(),\n",
        "                                   nn.Linear(84,10))\n",
        "  def forward(self,x):\n",
        "      y=self.conv_model(x)\n",
        "      # flatten the result from the conv model\n",
        "      y=torch.flatten(y,1) # 1--> dimension (N,3,32,32)\n",
        "      y=self.dense_model(y)\n",
        "      return y"
      ]
    },
    {
      "cell_type": "code",
      "execution_count": 6,
      "metadata": {
        "id": "NLJyNU3KpTAC",
        "colab": {
          "base_uri": "https://localhost:8080/",
          "height": 158
        },
        "outputId": "a1cba906-4c58-4603-af37-7169bc840196"
      },
      "outputs": [
        {
          "output_type": "error",
          "ename": "NameError",
          "evalue": "name 'images' is not defined",
          "traceback": [
            "\u001b[0;31m---------------------------------------------------------------------------\u001b[0m",
            "\u001b[0;31mNameError\u001b[0m                                 Traceback (most recent call last)",
            "\u001b[0;32m<ipython-input-6-cd5d113cb47d>\u001b[0m in \u001b[0;36m<cell line: 0>\u001b[0;34m()\u001b[0m\n\u001b[1;32m      1\u001b[0m \u001b[0mnet\u001b[0m\u001b[0;34m=\u001b[0m\u001b[0mLeNet\u001b[0m\u001b[0;34m(\u001b[0m\u001b[0;34m)\u001b[0m\u001b[0;34m\u001b[0m\u001b[0;34m\u001b[0m\u001b[0m\n\u001b[0;32m----> 2\u001b[0;31m \u001b[0mout\u001b[0m\u001b[0;34m=\u001b[0m\u001b[0mnet\u001b[0m\u001b[0;34m(\u001b[0m\u001b[0mimages\u001b[0m\u001b[0;34m)\u001b[0m\u001b[0;34m\u001b[0m\u001b[0;34m\u001b[0m\u001b[0m\n\u001b[0m",
            "\u001b[0;31mNameError\u001b[0m: name 'images' is not defined"
          ]
        }
      ],
      "source": [
        "net=LeNet()\n",
        "out=net(images)\n"
      ]
    },
    {
      "cell_type": "code",
      "execution_count": null,
      "metadata": {
        "colab": {
          "base_uri": "https://localhost:8080/"
        },
        "id": "QWTjGalHpmoI",
        "outputId": "beafa21c-b9c2-47a8-f47d-1bbbe3264398"
      },
      "outputs": [
        {
          "data": {
            "text/plain": [
              "torch.Size([4, 10])"
            ]
          },
          "execution_count": 68,
          "metadata": {},
          "output_type": "execute_result"
        }
      ],
      "source": [
        "out.shape"
      ]
    },
    {
      "cell_type": "code",
      "execution_count": null,
      "metadata": {
        "id": "QR5QnkWhq_so"
      },
      "outputs": [],
      "source": []
    },
    {
      "cell_type": "code",
      "execution_count": null,
      "metadata": {
        "colab": {
          "base_uri": "https://localhost:8080/"
        },
        "id": "wYSKxIZHpowy",
        "outputId": "324f15cb-6b0c-43be-f124-713739fd435d"
      },
      "outputs": [
        {
          "name": "stdout",
          "output_type": "stream",
          "text": [
            "tensor([[-0.0577, -0.0289,  0.0218, -0.0494,  0.1211, -0.0279,  0.1125, -0.1443,\n",
            "         -0.0878,  0.0678],\n",
            "        [-0.0635, -0.0397,  0.0261, -0.0594,  0.1051, -0.0269,  0.0982, -0.1336,\n",
            "         -0.0621,  0.0733],\n",
            "        [-0.0638, -0.0268,  0.0480, -0.0927,  0.1024, -0.0204,  0.0911, -0.1405,\n",
            "         -0.0708,  0.0685],\n",
            "        [-0.0623, -0.0217,  0.0401, -0.0961,  0.1107, -0.0299,  0.1245, -0.1410,\n",
            "         -0.0916,  0.0661]], grad_fn=<AddmmBackward0>)\n"
          ]
        }
      ],
      "source": [
        "print(out)"
      ]
    },
    {
      "cell_type": "code",
      "execution_count": null,
      "metadata": {
        "colab": {
          "base_uri": "https://localhost:8080/"
        },
        "id": "lDfTcGASprFX",
        "outputId": "2fab89c6-1b5d-4450-cbab-7d169a25cb94"
      },
      "outputs": [
        {
          "data": {
            "text/plain": [
              "tensor(0.1245, grad_fn=<MaxBackward1>)"
            ]
          },
          "execution_count": 70,
          "metadata": {},
          "output_type": "execute_result"
        }
      ],
      "source": [
        "torch.max(out)"
      ]
    },
    {
      "cell_type": "code",
      "execution_count": null,
      "metadata": {
        "colab": {
          "base_uri": "https://localhost:8080/"
        },
        "id": "gGp1c7Oqp3CW",
        "outputId": "5efa31f5-e482-4cdc-825f-419ea11c305d"
      },
      "outputs": [
        {
          "data": {
            "text/plain": [
              "torch.return_types.max(\n",
              "values=tensor([0.1211, 0.1051, 0.1024, 0.1245], grad_fn=<MaxBackward0>),\n",
              "indices=tensor([4, 4, 4, 6]))"
            ]
          },
          "execution_count": 71,
          "metadata": {},
          "output_type": "execute_result"
        }
      ],
      "source": [
        "# max value across each dimension, parameter --> dim=1\n",
        "torch.max(out,dim=1)"
      ]
    },
    {
      "cell_type": "code",
      "execution_count": null,
      "metadata": {
        "id": "tdRbNZm8qIDW"
      },
      "outputs": [],
      "source": [
        "max_values,pred_class=torch.max(out,dim=1)"
      ]
    },
    {
      "cell_type": "code",
      "execution_count": null,
      "metadata": {
        "colab": {
          "base_uri": "https://localhost:8080/"
        },
        "id": "AZdLvKwbqSgM",
        "outputId": "7bbfa5bc-a1c8-44cf-de46-4e2f79478cac"
      },
      "outputs": [
        {
          "name": "stdout",
          "output_type": "stream",
          "text": [
            "tensor([4, 4, 4, 6])\n"
          ]
        }
      ],
      "source": [
        "print(pred_class)"
      ]
    },
    {
      "cell_type": "markdown",
      "metadata": {
        "id": "dEJZvpRXUnUQ"
      },
      "source": [
        "# **Train the LeNet**"
      ]
    },
    {
      "cell_type": "code",
      "execution_count": 9,
      "metadata": {
        "id": "9b4iGepEUt2r"
      },
      "outputs": [],
      "source": [
        "# define the batch size\n",
        "batch=256"
      ]
    },
    {
      "cell_type": "code",
      "execution_count": 7,
      "metadata": {
        "id": "2uQa3xFdU1PN"
      },
      "outputs": [],
      "source": [
        "class LeNet(nn.Module):\n",
        "  def __init__(self):\n",
        "    super().__init__()\n",
        "    self.conv_model=nn.Sequential(nn.Conv2d(3,6,5),\n",
        "                                   nn.Tanh(),\n",
        "                                   nn.AvgPool2d(2,stride=2),\n",
        "                                   nn.Conv2d(6,16,5),\n",
        "                                   nn.Tanh(),\n",
        "                                   nn.AvgPool2d(2,stride=2))\n",
        "    self.dense_model=nn.Sequential(nn.Linear(400,120),\n",
        "                                   nn.Tanh(),\n",
        "                                   nn.Linear(120,84),\n",
        "                                   nn.Tanh(),\n",
        "                                   nn.Linear(84,10))\n",
        "\n",
        "  def forward(self,x):\n",
        "      y=self.conv_model(x)\n",
        "      # flatten the result from the conv model\n",
        "      y=torch.flatten(y,1) # 1--> dimension (N,16,5,5)\n",
        "      y=self.dense_model(y)\n",
        "      return y\n"
      ]
    },
    {
      "cell_type": "code",
      "execution_count": 10,
      "metadata": {
        "id": "7h3PFv1NaBBc"
      },
      "outputs": [],
      "source": [
        "trainset=torchvision.datasets.CIFAR10(root='/content/drive/MyDrive/cifar10',download=True,train=True,\n",
        "                                    transform=torchvision.transforms.ToTensor())\n",
        "trainloader=torch.utils.data.DataLoader(trainset,batch_size=batch,shuffle=True)\n",
        "\n",
        "testset=torchvision.datasets.CIFAR10(root='/content/drive/MyDrive/cifar10',download=True,train=False,\n",
        "                                    transform=torchvision.transforms.ToTensor())\n",
        "testloader=torch.utils.data.DataLoader(testset,batch_size=batch,shuffle=False)"
      ]
    },
    {
      "cell_type": "code",
      "execution_count": 11,
      "metadata": {
        "id": "RWZHqvGFfSir"
      },
      "outputs": [],
      "source": [
        "net=LeNet()"
      ]
    },
    {
      "cell_type": "code",
      "execution_count": 12,
      "metadata": {
        "id": "vaVCWtOtfcxF"
      },
      "outputs": [],
      "source": [
        "loss_func=nn.CrossEntropyLoss()\n",
        "optimizer=torch.optim.Adam(net.parameters())"
      ]
    },
    {
      "cell_type": "code",
      "execution_count": 13,
      "metadata": {
        "id": "qoIOnQAtf15z"
      },
      "outputs": [],
      "source": [
        "def model_evaluation(dataloader):\n",
        "  total=0\n",
        "  correct=0\n",
        "  for data in dataloader:\n",
        "    images,labels=data\n",
        "    out=net(images)\n",
        "    max_value,pred_class =torch.max(out,1)\n",
        "    total+=labels.size(0)\n",
        "    correct+=(pred_class==labels).sum().item()\n",
        "    accuracy= (100*correct)/total\n",
        "  return accuracy"
      ]
    },
    {
      "cell_type": "code",
      "execution_count": 14,
      "metadata": {
        "colab": {
          "base_uri": "https://localhost:8080/"
        },
        "id": "ld0abs6qhEZQ",
        "outputId": "6b570ba6-c5a6-4c1e-d0aa-e9e5d24b13c5"
      },
      "outputs": [
        {
          "output_type": "stream",
          "name": "stdout",
          "text": [
            "Epoch 20/20, Train Accuracy: 10.00%, Test Accuracy: 10.00%\n"
          ]
        }
      ],
      "source": [
        "total_epochs=20\n",
        "for i in range (total_epochs):\n",
        "  for data in  testloader:\n",
        "    images,labels= data\n",
        "    optimizer.zero_grad\n",
        "    out=net(images)\n",
        "    loss=loss_func(out,labels)\n",
        "    loss.backward()\n",
        "    optimizer.step()\n",
        "\n",
        "\n",
        "  train_acc=model_evaluation(trainloader)\n",
        "  test_acc=model_evaluation(testloader)\n",
        "\n",
        "print(f\"Epoch {i+1}/{total_epochs}, Train Accuracy: {train_acc:.2f}%, Test Accuracy: {test_acc:.2f}%\")\n",
        "\n"
      ]
    }
  ],
  "metadata": {
    "colab": {
      "provenance": [],
      "gpuType": "T4",
      "mount_file_id": "1aj08GfxPhh2sCqWj1CBR72CM5MTteBnX",
      "authorship_tag": "ABX9TyPdzDK0h3LYOR2iucGEXYNN",
      "include_colab_link": true
    },
    "kernelspec": {
      "display_name": "Python 3",
      "name": "python3"
    },
    "language_info": {
      "name": "python"
    },
    "accelerator": "GPU"
  },
  "nbformat": 4,
  "nbformat_minor": 0
}
